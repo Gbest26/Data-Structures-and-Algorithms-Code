{
 "cells": [
  {
   "cell_type": "markdown",
   "id": "b913ec1a",
   "metadata": {},
   "source": [
    "# Binary Search"
   ]
  },
  {
   "cell_type": "code",
   "execution_count": 4,
   "id": "14511401",
   "metadata": {},
   "outputs": [],
   "source": [
    "def binarysearchhelper(lst, elt, left, right):\n",
    "    n = len(lst)\n",
    "    if (left > right):\n",
    "        return None\n",
    "    else:\n",
    "        mid = (left + right)//2\n",
    "        if lst[mid] == elt:\n",
    "            return mid\n",
    "        elif lst[mid] < elt:\n",
    "            return binarysearchhelper(lst, elt, mid+1, right)\n",
    "        else:\n",
    "            return binarysearchhelper(lst, elt, left, mid-1)"
   ]
  },
  {
   "cell_type": "code",
   "execution_count": 5,
   "id": "c507f739",
   "metadata": {},
   "outputs": [],
   "source": [
    "def binarysearch(lst, elt):\n",
    "    n = len(lst)\n",
    "    if (elt < lst[0] or elt > lst[n-1]):\n",
    "        return None\n",
    "    else:\n",
    "        return binarysearchhelper(lst, elt, 0, n-1)"
   ]
  },
  {
   "cell_type": "code",
   "execution_count": 6,
   "id": "6345819c",
   "metadata": {},
   "outputs": [
    {
     "name": "stdout",
     "output_type": "stream",
     "text": [
      "searching for 9 in list [0,2,3,4,6,9,12]\n",
      "5\n",
      "searching for 17 in list [2,4,6,8,10,12,14,16,18,20]\n",
      "None\n"
     ]
    }
   ],
   "source": [
    "print(\"searching for 9 in list [0,2,3,4,6,9,12]\")\n",
    "print(binarysearch([0,2,3,4,6,9,12], 9))\n",
    "\n",
    "print(\"searching for 17 in list [2,4,6,8,10,12,14,16,18,20]\")\n",
    "print(binarysearch([2,4,6,8,10,12,14,16,18,20], 17))"
   ]
  },
  {
   "cell_type": "code",
   "execution_count": 1,
   "id": "6600f2c4",
   "metadata": {},
   "outputs": [],
   "source": [
    "def binsearch(lst, elt):\n",
    "    n = len(lst)\n",
    "    if elt < lst[0] or elt > lst[n - 1]:\n",
    "        return None\n",
    "    \n",
    "    else:\n",
    "        left = 0\n",
    "        right = n-1\n",
    "        while (left <= right):\n",
    "            mid = (left + right)//2\n",
    "            if lst[mid] == elt:\n",
    "                return mid\n",
    "            elif lst[mid] < elt:\n",
    "                left = mid + 1\n",
    "            else:\n",
    "                right = mid - 1\n",
    "                \n",
    "        return None"
   ]
  },
  {
   "cell_type": "code",
   "execution_count": 10,
   "id": "148c180b",
   "metadata": {},
   "outputs": [
    {
     "name": "stdout",
     "output_type": "stream",
     "text": [
      "searching for 9 in list [0,2,3,4,6,9,12]\n",
      "5\n",
      "searching for 17 in list [2,4,6,8,10,12,14,16,18,20]\n",
      "None\n",
      "searching for 100 in list [0,2]\n",
      "4\n",
      "searching for 17 in list [1,2,3,4,5,6,8,9,10,11,12,13,14,16,17,18,19,20]\n",
      "14\n",
      "searching for 2 in list [0,2]\n",
      "1\n"
     ]
    }
   ],
   "source": [
    "print(\"searching for 9 in list [0,2,3,4,6,9,12]\")\n",
    "print(binsearch([0,2,3,4,6,9,12], 9))\n",
    "!!!!!!!!\n",
    "print(\"searching for 17 in list [2,4,6,8,10,12,14,16,18,20]\")\n",
    "print(binsearch([2,4,6,8,10,12,14,16,18,20], 17))\n",
    "\n",
    "print(\"searching for 100 in list [0,2]\")\n",
    "print(binsearch([0,2,3, 56, 100], 100))\n",
    "\n",
    "print(\"searching for 17 in list [1,2,3,4,5,6,8,9,10,11,12,13,14,16,17,18,19,20]\")\n",
    "print(binsearch([1,2,3,4,5,6,8,9,10,11,12,13,14,16,17,18,19,20], 17))\n",
    "\n",
    "print(\"searching for 2 in list [0,2]\")\n",
    "print(binsearch([0,2], 2))"
   ]
  },
  {
   "cell_type": "markdown",
   "id": "c39b0847",
   "metadata": {},
   "source": [
    "# MERGE SORT"
   ]
  },
  {
   "cell_type": "code",
   "execution_count": 27,
   "id": "f9af1886",
   "metadata": {},
   "outputs": [],
   "source": [
    "def mergelist(lst1, lst2):\n",
    "    n1 = len(lst1)\n",
    "    n2 = len(lst2)\n",
    "    if n1 == 0:\n",
    "        return list(lst2)\n",
    "    elif n2 == 0:\n",
    "        return list(lst1)\n",
    "    else:\n",
    "        output_lst = []\n",
    "        i1 = 0\n",
    "        i2 = 0\n",
    "        while i1 < n1 or i2 < n2:\n",
    "            if i1 < n1 and i2 < n2:\n",
    "                if lst1[i1] <= lst2[i2]:\n",
    "                    output_lst.append(lst1[i1])\n",
    "                    i1 += 1\n",
    "                else:\n",
    "                    output_lst.append(lst2[i2])\n",
    "                    i2 += 1\n",
    "            elif i1 < n1:\n",
    "                output_lst.append(lst1[i1])\n",
    "                i1 += 1\n",
    "            else:\n",
    "                output_lst.append(lst2[i2])\n",
    "                i2 += 1\n",
    "        return output_lst"
   ]
  },
  {
   "cell_type": "code",
   "execution_count": 13,
   "id": "9db913fc",
   "metadata": {},
   "outputs": [
    {
     "name": "stdout",
     "output_type": "stream",
     "text": [
      "list: [0, 1, 2, 3, 4, 5, 6, 7, 7, 8, 9, 10, 10, 11, 12]\n"
     ]
    }
   ],
   "source": [
    "lst1 = mergelist([0,2,3,7,10], [1,4,5,6,7,8,9,10,11,12])\n",
    "print('list: %s' % str(lst1))\n",
    "assert lst1 == [0,1,2,3,4,5,6,7,7,8,9,10,10,11,12]"
   ]
  },
  {
   "cell_type": "code",
   "execution_count": 14,
   "id": "e9323284",
   "metadata": {},
   "outputs": [
    {
     "name": "stdout",
     "output_type": "stream",
     "text": [
      "lst2: [0, 1, 2, 3, 6]\n"
     ]
    }
   ],
   "source": [
    "lst2 = mergelist([0,2], [1,3,6])\n",
    "print('lst2: %s' % str(lst2))\n",
    "assert lst2 == [0,1,2,3,6]"
   ]
  },
  {
   "cell_type": "code",
   "execution_count": 15,
   "id": "12109519",
   "metadata": {},
   "outputs": [
    {
     "name": "stdout",
     "output_type": "stream",
     "text": [
      "lst2: [0, 1, 2, 3, 3, 6, 6, 7, 45, 66, 78, 100]\n"
     ]
    }
   ],
   "source": [
    "lst2 = mergelist([0,2,3,6,7], [1,3,6,45,66,78,100])\n",
    "print('lst2: %s' % str(lst2))\n",
    "assert lst2 == [0,1,2,3,3,6,6,7,45,66,78,100]"
   ]
  },
  {
   "cell_type": "code",
   "execution_count": 17,
   "id": "37aad7e1",
   "metadata": {},
   "outputs": [
    {
     "name": "stdout",
     "output_type": "stream",
     "text": [
      "lst4: [0, 2, 3, 5, 6, 8, 9]\n"
     ]
    }
   ],
   "source": [
    "lst4 = mergelist([], [0,2,3,5,6,8,9])\n",
    "print('lst4: %s' % str(lst4))\n",
    "assert lst4 == [0,2,3,5,6,8,9]"
   ]
  },
  {
   "cell_type": "code",
   "execution_count": 33,
   "id": "f62669ae",
   "metadata": {
    "scrolled": true
   },
   "outputs": [
    {
     "name": "stdout",
     "output_type": "stream",
     "text": [
      "Original array: [12, 11, 13, 5, 6, 7]\n",
      "Sorted array: [5, 6, 7, 11, 12, 13]\n",
      "Sorted array: []\n",
      "Sorted array: [-67, -49, -4, -3, 3, 3, 3, 4, 4, 4, 4, 5, 5, 7, 32, 67]\n",
      "Sorted array: [1, 1, 4, 6, 6, 6, 9, 9, 14, 49]\n"
     ]
    }
   ],
   "source": [
    "def merge_sort(arr):\n",
    "    # Base case: If the array has only one element or is empty, it's already sorted\n",
    "    if len(arr) > 1:\n",
    "        # Divide the array into two halves\n",
    "        mid = len(arr) // 2\n",
    "        left_half = arr[:mid]\n",
    "        right_half = arr[mid:]\n",
    "\n",
    "        # Recursively apply merge_sort on both halves\n",
    "        merge_sort(left_half)\n",
    "        merge_sort(right_half)\n",
    "\n",
    "        # Initialize pointers for left, right, and merged array\n",
    "        i = j = k = 0\n",
    "\n",
    "        # Merge the two halves back together\n",
    "        while i < len(left_half) and j < len(right_half):\n",
    "            if left_half[i] < right_half[j]:\n",
    "                arr[k] = left_half[i]\n",
    "                i += 1\n",
    "            else:\n",
    "                arr[k] = right_half[j]\n",
    "                j += 1\n",
    "            k += 1\n",
    "\n",
    "        # If there are any remaining elements in left_half, add them to the merged array\n",
    "        while i < len(left_half):\n",
    "            arr[k] = left_half[i]\n",
    "            i += 1\n",
    "            k += 1\n",
    "\n",
    "        # If there are any remaining elements in right_half, add them to the merged array\n",
    "        while j < len(right_half):\n",
    "            arr[k] = right_half[j]\n",
    "            j += 1\n",
    "            k += 1\n",
    "\n",
    "# Example usage\n",
    "my_list = [12, 11, 13, 5, 6, 7]\n",
    "print(\"Original array:\", my_list)\n",
    "merge_sort(my_list)\n",
    "print(\"Sorted array:\", my_list)\n",
    "\n",
    "my_list = []\n",
    "merge_sort(my_list)\n",
    "print(\"Sorted array:\", my_list)\n",
    "\n",
    "my_list = [3,4,4,32,3,4,5,4,3,5,67,7,-3,-4,-67,-49]\n",
    "merge_sort(my_list)\n",
    "print(\"Sorted array:\", my_list)\n",
    "\n",
    "my_list = [1,1,14,4,49,9,9,6,6,6]\n",
    "merge_sort(my_list)\n",
    "print(\"Sorted array:\", my_list)"
   ]
  },
  {
   "cell_type": "markdown",
   "id": "a7d48a10",
   "metadata": {},
   "source": [
    "Here's how the algorithm works step by step:\n",
    "\n",
    "1. If the array has one element or is empty, it's already sorted (base case).\n",
    "2. Otherwise, divide the array into two halves: left_half and right_half.\n",
    "3. Recursively apply the merge_sort function on both left_half and right_half.\n",
    "4. Initialize pointers i, j, and k to track positions in left_half, right_half, and the merged array.\n",
    "5. Compare elements from left_half and right_half and add the smaller one to the merged array.\n",
    "6. If there are remaining elements in left_half, add them to the merged array.\n",
    "7. If there are remaining elements in right_half, add them to the merged array.\n",
    "8. The array is now sorted.\n",
    "\n",
    "The example usage demonstrates how to use the merge_sort function to sort a list. The algorithm's time complexity is O(n log n), making it an efficient sorting method."
   ]
  },
  {
   "cell_type": "code",
   "execution_count": 27,
   "id": "89aed3a8",
   "metadata": {},
   "outputs": [],
   "source": [
    "def swap(lst, i, j):\n",
    "    n = len(lst)\n",
    "    assert(i >= 0 and i < n)\n",
    "    assert(j >= 0 and j < n)\n",
    "    (lst[i], lst[j]) = (lst[j], lst[i])\n",
    "    return\n",
    "\n",
    "def copy_back(output_lst, lst, left, right):\n",
    "    assert(len(output_lst) == right - left + 1)\n",
    "    for i in range(left, right+1):\n",
    "        lst[i] = output_lst[i - left]\n",
    "    return\n",
    "\n",
    "def mergehelper(lst, left, mid, right):\n",
    "    if left > mid or mid > right:\n",
    "        return\n",
    "    i1 = left\n",
    "    i2 = mid + 1\n",
    "    output_lst = []\n",
    "    while (i1 <= mid or i2 <= right):\n",
    "        if (i1 <= mid and i2 <= right):\n",
    "            if lst[i1] <= lst[i2]:\n",
    "                output_lst.append(lst[i1])\n",
    "                i1 = i1 + 1\n",
    "            else:\n",
    "                output_lst.append(lst[i2])\n",
    "                i2 = i2 + 1\n",
    "        elif i1 <= mid:\n",
    "            output_lst.append(lst[i1])\n",
    "            i1 = i1 + 1\n",
    "        else:\n",
    "            output_lst.append(lst[i2])\n",
    "            i2 = i2 + 1\n",
    "    copy_back(output_lst, lst, left, right)\n",
    "    return\n",
    "\n",
    "def mergesort(lst, left, right):\n",
    "    if(left == right):\n",
    "        return\n",
    "    elif(left+1 == right):\n",
    "        if (lst[left] > lst[right]):\n",
    "            swap(lst, left, right)\n",
    "    else:\n",
    "        mid = (left + right)//2\n",
    "        mergesorthelper(lst, left, mid)\n",
    "        mergesorthelper(lst, mid + 1, right)\n",
    "        mergehelper(lst, left, mid, right)\n",
    "        \n",
    "def mergesort(lst):\n",
    "    if len(lst) <= 1:\n",
    "        return\n",
    "    else:\n",
    "        mergesort(lst, 0, len(lst)-1)"
   ]
  },
  {
   "cell_type": "code",
   "execution_count": 28,
   "id": "89e9f578",
   "metadata": {
    "collapsed": true
   },
   "outputs": [
    {
     "ename": "TypeError",
     "evalue": "mergesort() takes 1 positional argument but 3 were given",
     "output_type": "error",
     "traceback": [
      "\u001b[1;31m---------------------------------------------------------------------------\u001b[0m",
      "\u001b[1;31mTypeError\u001b[0m                                 Traceback (most recent call last)",
      "\u001b[1;32m~\\AppData\\Local\\Temp\\ipykernel_6712\\103626476.py\u001b[0m in \u001b[0;36m<module>\u001b[1;34m\u001b[0m\n\u001b[0;32m      1\u001b[0m \u001b[0mlst\u001b[0m \u001b[1;33m=\u001b[0m \u001b[1;33m[\u001b[0m\u001b[1;36m0\u001b[0m\u001b[1;33m,\u001b[0m\u001b[1;36m5\u001b[0m\u001b[1;33m,\u001b[0m\u001b[1;36m6\u001b[0m\u001b[1;33m,\u001b[0m\u001b[1;36m2\u001b[0m\u001b[1;33m,\u001b[0m\u001b[1;36m19\u001b[0m\u001b[1;33m,\u001b[0m\u001b[1;33m-\u001b[0m\u001b[1;36m1\u001b[0m\u001b[1;33m,\u001b[0m\u001b[1;36m2\u001b[0m\u001b[1;33m,\u001b[0m\u001b[1;36m3\u001b[0m\u001b[1;33m,\u001b[0m\u001b[1;36m0\u001b[0m\u001b[1;33m,\u001b[0m\u001b[1;36m4\u001b[0m\u001b[1;33m,\u001b[0m\u001b[1;36m5\u001b[0m\u001b[1;33m,\u001b[0m\u001b[1;36m8\u001b[0m\u001b[1;33m]\u001b[0m\u001b[1;33m\u001b[0m\u001b[1;33m\u001b[0m\u001b[0m\n\u001b[1;32m----> 2\u001b[1;33m \u001b[0mmergesort\u001b[0m\u001b[1;33m(\u001b[0m\u001b[0mlst\u001b[0m\u001b[1;33m)\u001b[0m\u001b[1;33m\u001b[0m\u001b[1;33m\u001b[0m\u001b[0m\n\u001b[0m\u001b[0;32m      3\u001b[0m \u001b[0mprint\u001b[0m\u001b[1;33m(\u001b[0m\u001b[0mlst\u001b[0m\u001b[1;33m)\u001b[0m\u001b[1;33m\u001b[0m\u001b[1;33m\u001b[0m\u001b[0m\n\u001b[0;32m      4\u001b[0m \u001b[1;33m\u001b[0m\u001b[0m\n\u001b[0;32m      5\u001b[0m \u001b[0mlst1\u001b[0m \u001b[1;33m=\u001b[0m \u001b[1;33m[\u001b[0m\u001b[1;36m9\u001b[0m\u001b[1;33m,\u001b[0m\u001b[1;36m8\u001b[0m\u001b[1;33m,\u001b[0m\u001b[1;36m7\u001b[0m\u001b[1;33m,\u001b[0m\u001b[1;36m6\u001b[0m\u001b[1;33m,\u001b[0m\u001b[1;36m5\u001b[0m\u001b[1;33m,\u001b[0m\u001b[1;36m4\u001b[0m\u001b[1;33m,\u001b[0m\u001b[1;36m3\u001b[0m\u001b[1;33m,\u001b[0m\u001b[1;36m2\u001b[0m\u001b[1;33m,\u001b[0m\u001b[1;36m1\u001b[0m\u001b[1;33m]\u001b[0m\u001b[1;33m\u001b[0m\u001b[1;33m\u001b[0m\u001b[0m\n",
      "\u001b[1;32m~\\AppData\\Local\\Temp\\ipykernel_6712\\2421406303.py\u001b[0m in \u001b[0;36mmergesort\u001b[1;34m(lst)\u001b[0m\n\u001b[0;32m     51\u001b[0m         \u001b[1;32mreturn\u001b[0m\u001b[1;33m\u001b[0m\u001b[1;33m\u001b[0m\u001b[0m\n\u001b[0;32m     52\u001b[0m     \u001b[1;32melse\u001b[0m\u001b[1;33m:\u001b[0m\u001b[1;33m\u001b[0m\u001b[1;33m\u001b[0m\u001b[0m\n\u001b[1;32m---> 53\u001b[1;33m         \u001b[0mmergesort\u001b[0m\u001b[1;33m(\u001b[0m\u001b[0mlst\u001b[0m\u001b[1;33m,\u001b[0m \u001b[1;36m0\u001b[0m\u001b[1;33m,\u001b[0m \u001b[0mlen\u001b[0m\u001b[1;33m(\u001b[0m\u001b[0mlst\u001b[0m\u001b[1;33m)\u001b[0m\u001b[1;33m-\u001b[0m\u001b[1;36m1\u001b[0m\u001b[1;33m)\u001b[0m\u001b[1;33m\u001b[0m\u001b[1;33m\u001b[0m\u001b[0m\n\u001b[0m",
      "\u001b[1;31mTypeError\u001b[0m: mergesort() takes 1 positional argument but 3 were given"
     ]
    }
   ],
   "source": [
    "lst = [0,5,6,2,19,-1,2,3,0,4,5,8]\n",
    "mergesort(lst)\n",
    "print(lst)\n",
    "\n",
    "lst1 = [9,8,7,6,5,4,3,2,1]\n",
    "mergesort(lst1)\n",
    "print(lst1)\n",
    "\n",
    "lst2 = [1]\n",
    "mergesort(lst2)\n",
    "print(lst2)\n",
    "\n",
    "lst3 = [-1100,-22,3,0,-14,54,-398]\n",
    "mergesort(lst3)\n",
    "print(lst3)\n",
    "\n",
    "lst4 = []\n",
    "mergesort(lst4)\n",
    "print(lst4)"
   ]
  },
  {
   "cell_type": "markdown",
   "id": "57c0ed60",
   "metadata": {},
   "source": [
    "#  HEAPS, HASHTABLES AND DATA STRUCTURES."
   ]
  },
  {
   "cell_type": "code",
   "execution_count": 216,
   "id": "5c8ee90b",
   "metadata": {},
   "outputs": [],
   "source": [
    "def allocatedmemory(size):\n",
    "    assert size >= 0\n",
    "    return [0] * size\n",
    "\n",
    "def copyinto(old, new):\n",
    "    assert len(old) <= len(new)\n",
    "    m = len(old)\n",
    "    for i in range(m):\n",
    "        new[i] = old[i]"
   ]
  },
  {
   "cell_type": "code",
   "execution_count": 217,
   "id": "b60930f1",
   "metadata": {},
   "outputs": [],
   "source": [
    "class DynamicArray:\n",
    "    def __init__(self, initial_size=16, initial_fill=0, debug=True):\n",
    "        self.allocated_size = initial_size\n",
    "        self.size = 0\n",
    "        self.array = [initial_fill] * initial_size\n",
    "        self.debug = debug\n",
    "        \n",
    "    def __getitem__(self, idx):\n",
    "        if idx >= 0 and idx < self.size:\n",
    "            return self.array[idx]\n",
    "        \n",
    "    def __setitem__(self, idx, val):\n",
    "        if idx >= 0 and idx < self.size:\n",
    "            self.array[idx] = val\n",
    "            \n",
    "    def append(self, x):\n",
    "        if self.size >= self.allocated_size:\n",
    "            if self.array:\n",
    "                print(f'Ran out of memory: old allocated size: {self.allocated_size}, new allocated size is {2*self.allocated_size}')\n",
    "            self.allocated_size = 2* self.allocated_size\n",
    "            old_array = self.array\n",
    "            new_array = allocatedmemory(self.allocated_size)\n",
    "            copyinto(old_array, new_array)\n",
    "            self.array = new_array\n",
    "        self.array[self.size] = x\n",
    "        self.size = self.size + 1"
   ]
  },
  {
   "cell_type": "code",
   "execution_count": 218,
   "id": "42dce810",
   "metadata": {},
   "outputs": [
    {
     "name": "stdout",
     "output_type": "stream",
     "text": [
      "Ran out of memory: old allocated size: 1, new allocated size is 2\n",
      "Ran out of memory: old allocated size: 2, new allocated size is 4\n",
      "Ran out of memory: old allocated size: 4, new allocated size is 8\n",
      "Ran out of memory: old allocated size: 8, new allocated size is 16\n",
      "Ran out of memory: old allocated size: 16, new allocated size is 32\n",
      "Ran out of memory: old allocated size: 32, new allocated size is 64\n",
      "Ran out of memory: old allocated size: 64, new allocated size is 128\n",
      "Ran out of memory: old allocated size: 128, new allocated size is 256\n",
      "Ran out of memory: old allocated size: 256, new allocated size is 512\n",
      "Ran out of memory: old allocated size: 512, new allocated size is 1024\n",
      "l[5] = 5\n",
      "l[0] = 30\n"
     ]
    }
   ],
   "source": [
    "l = DynamicArray(initial_size=1, initial_fill=0, debug=True)\n",
    "for j in range(1000):\n",
    "    l.append(j)\n",
    "print(f'l[5] = {l[5]}')\n",
    "l[0] = 30\n",
    "print(f'l[0] = {l[0]}')"
   ]
  },
  {
   "cell_type": "markdown",
   "id": "95315dc1",
   "metadata": {},
   "source": [
    "## min heap"
   ]
  },
  {
   "cell_type": "code",
   "execution_count": 5,
   "id": "def51be2",
   "metadata": {
    "scrolled": false
   },
   "outputs": [
    {
     "name": "stdout",
     "output_type": "stream",
     "text": [
      "Heap after insertions: [1, 3, 6, 5, 10, 8, 15, 31, 18, 11, 110, 61]\n",
      "Heap after deletion of 3: [1, 61, 6, 5, 10, 8, 15, 31, 18, 11, 110]\n",
      "Heap after updating 5 to 2: [1, 2, 6, 61, 10, 8, 15, 31, 18, 11, 110]\n"
     ]
    }
   ],
   "source": [
    "class MinHeap:\n",
    "    def __init__(self):\n",
    "        self.heap = []\n",
    "        \n",
    "    def insert(self, value):\n",
    "        self.heap.append(value)  # Add the new value to the end of the list\n",
    "        self._bubble_up(len(self.heap) - 1)  # Maintain the heap property\n",
    "        \n",
    "    def search(self,value):\n",
    "        index = 0\n",
    "        while index < len(self.heap):\n",
    "            if self.heap[index] == value:\n",
    "                return index\n",
    "            elif self.heap[index] < value:\n",
    "                index = 2 * index + 1\n",
    "            else:\n",
    "                index = 2 * index + 2\n",
    "        return -1\n",
    "\n",
    "    def delete(self, value):\n",
    "        if value in self.heap:\n",
    "            index = self.heap.index(value)\n",
    "            self.heap[index] = self.heap.pop()  # Replace the element with the last element and remove it\n",
    "            if self.heap[index] < value:\n",
    "                self._bubble_down(index)  # Maintain the heap property by bubbling down\n",
    "            else:\n",
    "                self._bubble_up(index)  # Maintain the heap property by bubbling up\n",
    "        else:\n",
    "            print(f\"Element {value} not found in the heap.\")\n",
    "    \n",
    "    def update(self, old_val, new_val):\n",
    "        index = self.heap.index(old_val)  # Find the index of the old value\n",
    "        self.heap[index] = new_val  # Update the value\n",
    "        if new_val < old_val:\n",
    "            self._bubble_up(index)  # Maintain the heap property by bubbling up\n",
    "        \n",
    "    def _bubble_up(self, index):\n",
    "        while index > 0:\n",
    "            parent_index = (index - 1) // 2\n",
    "            if self.heap[parent_index] > self.heap[index]:\n",
    "                self.heap[parent_index], self.heap[index] = self.heap[index], self.heap[parent_index]\n",
    "                index = parent_index\n",
    "            else:\n",
    "                break\n",
    "    \n",
    "    def _bubble_down(self, index):\n",
    "        left_child = 2 * index + 1\n",
    "        right_child = 2 * index + 2\n",
    "        smallest = index\n",
    "        \n",
    "        if left_child < len(self.heap) and self.heap[left_child] < self.heap[smallest]:\n",
    "            smallest = left_child\n",
    "        if right_child < len(self.heap) and self.heap[right_child] < self.heap[smallest]:\n",
    "            smallest = right_child\n",
    "        \n",
    "        if smallest != index:\n",
    "            self.heap[index], self.heap[smallest] = self.heap[smallest], self.heap[index]\n",
    "            self._bubble_down(smallest)  # Recursively check the subtree\n",
    "        \n",
    "# Example usage\n",
    "heap = MinHeap()\n",
    "heap.insert(5)\n",
    "heap.insert(3)\n",
    "heap.insert(8)\n",
    "heap.insert(1)\n",
    "heap.insert(10)\n",
    "heap.insert(6)\n",
    "heap.insert(15)\n",
    "heap.insert(31)\n",
    "heap.insert(18)\n",
    "heap.insert(11)\n",
    "heap.insert(110)\n",
    "heap.insert(61)\n",
    "\n",
    "print(\"Heap after insertions:\", heap.heap)\n",
    "heap.delete(3)\n",
    "print(\"Heap after deletion of 3:\", heap.heap)\n",
    "\n",
    "heap.update(5, 2)\n",
    "print(\"Heap after updating 5 to 2:\", heap.heap)"
   ]
  },
  {
   "cell_type": "code",
   "execution_count": 7,
   "id": "dfecf6c3",
   "metadata": {},
   "outputs": [
    {
     "name": "stdout",
     "output_type": "stream",
     "text": [
      "Heap after insertions: [1, 3, 6, 5, 10, 8, 15, 31, 18, 11, 110, 61]\n",
      "Heap after deletion of 3: [1, 61, 6, 5, 10, 8, 15, 31, 18, 11, 110]\n",
      "Heap after updating 5 to 2: [1, 2, 6, 61, 10, 8, 15, 31, 18, 11, 110]\n"
     ]
    }
   ],
   "source": [
    "class min_heap:\n",
    "    def __init__(self):\n",
    "        self.heap = []\n",
    "        \n",
    "    def insert(self, value):\n",
    "        self.heap.append(value)\n",
    "        return self.bubble_up(len(self.heap)-1)\n",
    "    \n",
    "    def search(self, value):\n",
    "        index = 0\n",
    "        while index < len(self.heap):\n",
    "            if self.heap[index] == value:\n",
    "                return value\n",
    "            elif self.heap[index] < value:\n",
    "                index = 2 * index + 1\n",
    "            else:\n",
    "                index = 2 * index + 2\n",
    "    \n",
    "    def delete(self, value):\n",
    "        if value in self.heap:\n",
    "            index = self.heap.index(value)\n",
    "            self.heap[index] = self.heap.pop()\n",
    "            if self.heap[index] < value:\n",
    "                self.bubble_up(index)\n",
    "            else:\n",
    "                self.bubble_down(index)\n",
    "        else:\n",
    "            return (f'the element {value} is not in heap.')\n",
    "        \n",
    "    def update(self, old_val, new_val):\n",
    "        index = self.heap(old_val)\n",
    "        self.heap[index] = new_val\n",
    "        if new_val < old_val:\n",
    "            self_bubble(index)\n",
    "            \n",
    "    def bubble_up(self, index):\n",
    "        while index > 0:\n",
    "            parent_index = (index-1) // 2\n",
    "            if self.heap[parent_index] > self.heap[index]:\n",
    "                self.heap[parent_index], self.heap[index] = self.heap[index], self.heap[parent_index]\n",
    "                index = parent_index\n",
    "            else:\n",
    "                break\n",
    "                \n",
    "    def bubble_down(self, index):\n",
    "        left = 2 * index + 1\n",
    "        right = 2 * index + 2\n",
    "        small = index\n",
    "        \n",
    "        if left < self.heap[index] and self.heap[left] < self.heap[small]:\n",
    "            small = left\n",
    "        if right < self.heap[index] and self.heap[right] < self.heap[small]:\n",
    "            small = right\n",
    "        if small != index:\n",
    "            self.heap[small],self.heap[index] =  self.heap[index], self.heap[small]\n",
    "            self.bubble_down(small)\n",
    "            \n",
    "heap = MinHeap()\n",
    "heap.insert(5)\n",
    "heap.insert(3)\n",
    "heap.insert(8)\n",
    "heap.insert(1)\n",
    "heap.insert(10)\n",
    "heap.insert(6)\n",
    "heap.insert(15)\n",
    "heap.insert(31)\n",
    "heap.insert(18)\n",
    "heap.insert(11)\n",
    "heap.insert(110)\n",
    "heap.insert(61)\n",
    "\n",
    "print(\"Heap after insertions:\", heap.heap)\n",
    "heap.delete(3)\n",
    "print(\"Heap after deletion of 3:\", heap.heap)\n",
    "\n",
    "heap.update(5, 2)\n",
    "print(\"Heap after updating 5 to 2:\", heap.heap)"
   ]
  },
  {
   "cell_type": "markdown",
   "id": "2dbc7b73",
   "metadata": {},
   "source": [
    "## quick sort"
   ]
  },
  {
   "cell_type": "code",
   "execution_count": null,
   "id": "7ab8d898",
   "metadata": {},
   "outputs": [],
   "source": [
    "def quicksort(arr):\n",
    "    if len(arr) < 1:\n",
    "        return arr\n",
    "    else:\n",
    "        \n",
    "        pivot = arr[-1]\n",
    "        left = [x for x in arr if x < pivot]\n",
    "        mid = [x for x in arr if x == pivot]\n",
    "        right = [x for x in arr if x > pivot]\n",
    "        \n",
    "        return quicksort(left) + mid + quicksort(right)\n",
    "    \n",
    "unsorted_array = [5,2,1,6,8,3,9,3,4,7,8,6]\n",
    "sorted_array = quicksort(unsorted_array)\n",
    "print(\"Sorted_Array:\", sorted_array)\n",
    "\n",
    "unsorted_array = [-100, -29, -48, 900, 344, -66, 557, -23]\n",
    "sorted_array = quicksort(unsorted_array)\n",
    "print(\"Sorted_Array:\", sorted_array)\n",
    "\n",
    "unsorted_array = [0]\n",
    "sorted_array = quicksort(unsorted_array)\n",
    "print(\"Sorted_Array:\", sorted_array)\n",
    "\n",
    "unsorted_array = [1,2,3,1,2,1,2]\n",
    "sorted_array = quicksort(unsorted_array)\n",
    "print(\"Sorted_Array:\", sorted_array)\n",
    "\n",
    "unsorted_array = [3, 6, 1, 8, 4, 2, 4, 5, 6, -2, -6, -7, -11]\n",
    "sorted_array = quicksort(unsorted_array)\n",
    "print(\"Sorted_Array:\", sorted_array)\n",
    "\n",
    "unsorted_array = [5, 2, 8, 3, 7, 1, 6, 4, -1, -3, -4, -5, -100,-303, 10, 12, 15, 57, 30, 12]\n",
    "sorted_array = quicksort(unsorted_array)\n",
    "print(\"Sorted_Array:\", sorted_array)"
   ]
  },
  {
   "cell_type": "code",
   "execution_count": null,
   "id": "e9f4ddd0",
   "metadata": {},
   "outputs": [],
   "source": [
    "def quicksort(arr):\n",
    "    n = len(arr)\n",
    "    if n < 1:\n",
    "        return arr\n",
    "    else:\n",
    "        pivot = n-1\n",
    "        left = [x for x in arr if x < pivot]\n",
    "        mid = [x for x in arr if x == pivot]\n",
    "        right = [x for x in arr if x > pivot]\n",
    "        return quicksort(left) + mid + quicksort(right)\n",
    "\n",
    "\n",
    "unsorted_array = [5,2,1,6,8,3,9,3,4,7,8,6]ii\n",
    "sorted_array = quicksort(unsorted_array)\n",
    "print(\"Sorted_Array:\", sorted_array)\n",
    "\n",
    "unsorted_array = [-100, -29, -48, 900, 344, -66, 557, -23]\n",
    "sorted_array = quicksort(unsorted_array)\n",
    "print(\"Sorted_Array:\", sorted_array)\n",
    "\n",
    "unsorted_array = [0]\n",
    "sorted_array = quicksort(unsorted_array)\n",
    "print(\"Sorted_Array:\", sorted_array)\n",
    "\n",
    "unsorted_array = [1,2,3,1,2,1,2]\n",
    "sorted_array = quicksort(unsorted_array)\n",
    "print(\"Sorted_Array:\", sorted_array)\n",
    "\n",
    "unsorted_array = [3, 6, 1, 8, 4, 2, 4, 5, 6, -2, -6, -7, -11]\n",
    "sorted_array = quicksort(unsorted_array)\n",
    "print(\"Sorted_Array:\", sorted_array)\n",
    "\n",
    "unsorted_array = [5, 2, 8, 3, 7, 1, 6, 4, -1, -3, -4, -5, -100,-303, 10, 12, 15, 57, 30, 12]\n",
    "sorted_array = quicksort(unsorted_array)\n",
    "print(\"Sorted_Array:\", sorted_array)"
   ]
  },
  {
   "cell_type": "code",
   "execution_count": null,
   "id": "2ca986f8",
   "metadata": {},
   "outputs": [],
   "source": [
    "def quick_select(arr, k):\n",
    "    # Check if k is within a valid range\n",
    "    if k < 1 or k > len(arr):\n",
    "        return None\n",
    "    # Call the quickselect helper function\n",
    "    return qsh(arr, 0, len(arr) - 1, k)\n",
    "\n",
    "def qsh(arr, left, right, k):\n",
    "    # Base case: If the array has only one element, return it\n",
    "    if left == right:\n",
    "        return arr[left]\n",
    "    \n",
    "    # Choose a pivot and partition the array\n",
    "    pivot_index = partition(arr, left, right)\n",
    "    \n",
    "    # Length of the left subarray\n",
    "    left_length = pivot_index - left + 1\n",
    "    \n",
    "    # Compare k with the left subarray length to determine the recursion direction\n",
    "    if k == left_length:\n",
    "        return arr[pivot_index]\n",
    "    elif k < left_length:\n",
    "        return qsh(arr, left, pivot_index + 1, k)\n",
    "    else:\n",
    "        return qsh(arr, pivot_index - 1, right, k - left_length)\n",
    "    \n",
    "\n",
    "def partition(arr, left, right):\n",
    "    # Choose a pivot\n",
    "    pivot_index = (left + right) // 2\n",
    "    pivot = arr[pivot_index]\n",
    "    \n",
    "    # Move the pivot to the end\n",
    "    arr[pivot_index], arr[right] = arr[right], arr[pivot_index]\n",
    "    \n",
    "    i = left - 1\n",
    "    for j in range(left, right):\n",
    "        if arr[j] < pivot:\n",
    "            i += 1\n",
    "            arr[i], arr[j] = arr[j], arr[i]\n",
    "            \n",
    "    # Move the pivot to its correct position\n",
    "    arr[i + 1], arr[right] = arr[right], arr[i + 1]\n",
    "    return i + 1\n",
    "\n",
    "unsorted_array = [5, 2, 8, 3, 7, 1, 6, 4, -1, -3, -4, -5, -100,-303, 10, 12, 15, 57, 30, 12]\n",
    "\n",
    "k = 4\n",
    "kth_smallest = quick_select(unsorted_array, k)\n",
    "print(f\"The {k}-th smallest element is:\", kth_smallest)\n",
    "\n",
    "max_element = quick_select(unsorted_array, len(unsorted_array))\n",
    "print(\"The maximum element is:\", max_element)\n",
    "\n",
    "mid_element = quick_select(unsorted_array, len(unsorted_array) // 2 + 1)\n",
    "print(\"The middle element is:\", mid_element)\n",
    "\n",
    "unsorted_array = [3, 6, 1, 8, 4, 2]\n",
    "\n",
    "k = 4\n",
    "kth_smallest = quick_select(unsorted_array, k)\n",
    "print(f\"The {k}-th smallest element is:\", kth_smallest)\n",
    "\n",
    "max_element = quick_select(unsorted_array, len(unsorted_array))\n",
    "print(\"The maximum element is:\", max_element)\n",
    "\n",
    "mid_element = quick_select(unsorted_array, len(unsorted_array) // 2 + 1)\n",
    "print(\"The middle element is:\", mid_element)"
   ]
  },
  {
   "cell_type": "code",
   "execution_count": null,
   "id": "e7504125",
   "metadata": {},
   "outputs": [],
   "source": []
  }
 ],
 "metadata": {
  "kernelspec": {
   "display_name": "Python 3 (ipykernel)",
   "language": "python",
   "name": "python3"
  },
  "language_info": {
   "codemirror_mode": {
    "name": "ipython",
    "version": 3
   },
   "file_extension": ".py",
   "mimetype": "text/x-python",
   "name": "python",
   "nbconvert_exporter": "python",
   "pygments_lexer": "ipython3",
   "version": "3.9.13"
  }
 },
 "nbformat": 4,
 "nbformat_minor": 5
}
