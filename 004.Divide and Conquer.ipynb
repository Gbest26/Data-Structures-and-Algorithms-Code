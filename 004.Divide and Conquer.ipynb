{
 "cells": [
  {
   "cell_type": "markdown",
   "id": "fee4ce79",
   "metadata": {},
   "source": [
    "# Big number addition"
   ]
  },
  {
   "cell_type": "code",
   "execution_count": 4,
   "id": "374dae99",
   "metadata": {},
   "outputs": [
    {
     "name": "stdout",
     "output_type": "stream",
     "text": [
      "Sum: 1111111110111111111011111111100\n",
      "Sum: 1666555555666655\n"
     ]
    }
   ],
   "source": [
    "def add_big_numbers(num1, num2):\n",
    "    # Convert the input strings to lists of digits\n",
    "    digits1 = [int(digit) for digit in num1][::-1]\n",
    "    digits2 = [int(digit) for digit in num2][::-1]\n",
    "    \n",
    "    carry = 0\n",
    "    result = []\n",
    "    \n",
    "    # Iterate through the digits of both numbers\n",
    "    for i in range(max(len(digits1), len(digits2))):\n",
    "        digit_sum = carry\n",
    "        \n",
    "        if i < len(digits1):\n",
    "            digit_sum += digits1[i]\n",
    "        if i < len(digits2):\n",
    "            digit_sum += digits2[i]\n",
    "        \n",
    "        carry = digit_sum // 10\n",
    "        result.append(digit_sum % 10)\n",
    "    \n",
    "    if carry:\n",
    "        result.append(carry)\n",
    "    \n",
    "    # Convert the result list to a string and reverse it\n",
    "    return ''.join(str(digit) for digit in result[::-1])\n",
    "\n",
    "# Example usage\n",
    "num1 = \"123456789012345678901234567890\"\n",
    "num2 = \"987654321098765432109876543210\"\n",
    "result = add_big_numbers(num1, num2)\n",
    "print(\"Sum:\", result)\n",
    "\n",
    "num1 = \"678901234567890\"\n",
    "num2 = \"987654321098765\"\n",
    "result = add_big_numbers(num1, num2)\n",
    "print(\"Sum:\", result)"
   ]
  },
  {
   "cell_type": "markdown",
   "id": "9a75e3e1",
   "metadata": {},
   "source": [
    "### Explanation of Algorithm:\n",
    "\n",
    "1.The **add_big_numbers** function converts the input numbers (represented as strings) into lists of digits in reverse order. This conversion allows easier digit-wise addition.\n",
    "\n",
    "2.The loop iterates through the digits of both numbers, adding the corresponding digits and any carry from the previous step. It calculates the sum and the new carry for each position.\n",
    "\n",
    "3.After the loop, if there's a carry remaining, it's added to the result.\n",
    "\n",
    "4.Finally, the result list is converted back to a string by joining the digits and reversing the order to obtain the correct numerical result.\n",
    "\n",
    "### Time Complexity Analysis:\n",
    "\n",
    "The time complexity of this algorithm is O(n), where n is the number of digits in the larger input number. The algorithm performs a constant amount of work for each digit, and the number of digits in the result is proportional to the number of digits in the input numbers.\n",
    "\n",
    "Converting the input strings to digit lists takes O(n) time, the loop through the digits takes O(n) time, and the conversion back to a string takes O(n) time. All of these steps contribute to the overall linear time complexity.\n",
    "\n",
    "For very large numbers, this algorithm is more efficient than using the elementary school addition method, which would have a time complexity of O(n^2)."
   ]
  },
  {
   "cell_type": "markdown",
   "id": "0b6017ca",
   "metadata": {},
   "source": [
    "# Big number subtraction"
   ]
  },
  {
   "cell_type": "code",
   "execution_count": 33,
   "id": "58a7e6b6",
   "metadata": {
    "scrolled": true
   },
   "outputs": [
    {
     "name": "stdout",
     "output_type": "stream",
     "text": [
      "Difference: 864197532086419753208641975320\n"
     ]
    }
   ],
   "source": [
    "def subtract_big_numbers(num1, num2):\n",
    "    # Convert the input strings to lists of digits\n",
    "    digits1 = [int(digit) for digit in num1][::-1]\n",
    "    digits2 = [int(digit) for digit in num2][::-1]\n",
    "    \n",
    "    # Ensure digits1 is larger or equal to digits2\n",
    "    while len(digits1) < len(digits2):\n",
    "        digits1.append(0)\n",
    "    \n",
    "    result = []\n",
    "    borrow = 0\n",
    "    \n",
    "    # Iterate through the digits of the larger number (digits1)\n",
    "    for i in range(len(digits1)):\n",
    "        digit_diff = digits1[i] - digits2[i] - borrow\n",
    "        \n",
    "        # Handling borrow\n",
    "        if digit_diff < 0:\n",
    "            digit_diff += 10\n",
    "            borrow = 1\n",
    "        else:\n",
    "            borrow = 0\n",
    "        \n",
    "        result.append(digit_diff)\n",
    "    \n",
    "    # Remove leading zeros in the result\n",
    "    while len(result) > 1 and result[-1] == 0:\n",
    "        result.pop()\n",
    "    \n",
    "    # Convert the result list to a string and reverse it\n",
    "    return ''.join(str(digit) for digit in result[::-1])\n",
    "\n",
    "# Example usage\n",
    "num1 = \"987654321098765432109876543210\"\n",
    "num2 = \"123456789012345678901234567890\"\n",
    "result = subtract_big_numbers(num1, num2)\n",
    "print(\"Difference:\", result)"
   ]
  },
  {
   "cell_type": "markdown",
   "id": "9307c302",
   "metadata": {},
   "source": [
    "### Explanation of Algorithm:\n",
    "\n",
    "1. The **subtract_big_numbers** function converts the input numbers (represented as strings) into lists of digits in reverse order. This conversion allows easier digit-wise subtraction.\n",
    "\n",
    "2. The while loop ensures that both numbers have the same number of digits by adding leading zeros to the shorter number.\n",
    "\n",
    "3. The main loop iterates through the digits of the larger number (digits1). It subtracts the corresponding digits of the two numbers along with any borrow from the previous step.\n",
    "\n",
    "4. Borrow handling: If the subtraction results in a negative value, it borrows from the next higher digit by adding 10 to the current digit.\n",
    "\n",
    "5. After the loop, any leading zeros in the result are removed.\n",
    "\n",
    "6. Finally, the result list is converted back to a string by joining the digits and reversing the order to obtain the correct numerical result.\n",
    "\n",
    "### Time Complexity Analysis:\n",
    "\n",
    "The time complexity of this algorithm is O(n), where n is the number of digits in the larger input number. The algorithm performs a constant amount of work for each digit, and the number of digits in the result is proportional to the number of digits in the input numbers.\n",
    "\n",
    "Converting the input strings to digit lists takes O(n) time, the loop through the digits takes O(n) time, and the conversion back to a string takes O(n) time. All of these steps contribute to the overall linear time complexity.\n",
    "\n",
    "For very large numbers, this algorithm is more efficient than using the elementary school subtraction method, which would have a time complexity of O(n^2)."
   ]
  },
  {
   "cell_type": "markdown",
   "id": "39f0a934",
   "metadata": {},
   "source": [
    "# divide and conquer karatsuba multiplication algorithm"
   ]
  },
  {
   "cell_type": "code",
   "execution_count": 8,
   "id": "a3302e72",
   "metadata": {},
   "outputs": [
    {
     "name": "stdout",
     "output_type": "stream",
     "text": [
      "Product: 7006652\n"
     ]
    }
   ],
   "source": [
    "def karatsuba(x, y):\n",
    "    # Base case: If either number is a single digit, perform simple multiplication\n",
    "    if x < 10 or y < 10:\n",
    "        return x * y\n",
    "    \n",
    "    # Calculate the number of digits in each number\n",
    "    n = max(len(str(x)), len(str(y)))\n",
    "    m = n // 2  # Splitting point\n",
    "    \n",
    "    # Split the numbers into halves\n",
    "    a = x // 10**m\n",
    "    b = x % 10**m\n",
    "    c = y // 10**m\n",
    "    d = y % 10**m\n",
    "    \n",
    "    # Recursive calls\n",
    "    ac = karatsuba(a, c)  # Multiply the higher halves\n",
    "    bd = karatsuba(b, d)  # Multiply the lower halves\n",
    "    ad_bc = karatsuba(a + b, c + d) - ac - bd  # Cross-products\n",
    "    \n",
    "    # Calculate the final product using Karatsuba's formula\n",
    "    result = ac * 10**(2 * m) + ad_bc * 10**m + bd\n",
    "    \n",
    "    return result\n",
    "\n",
    "# Example usage\n",
    "num1 = 1234\n",
    "num2 = 5678\n",
    "result = karatsuba(num1, num2)\n",
    "print(\"Product:\", result)"
   ]
  },
  {
   "cell_type": "markdown",
   "id": "52c3d019",
   "metadata": {},
   "source": [
    "### Explanation of Algorithm:\n",
    "\n",
    "1. The **karatsuba** function performs the Karatsuba multiplication algorithm. It handles the base case when either input number is a single digit and directly returns the product.\n",
    "\n",
    "2. If the numbers are not single digits, the algorithm calculates the number of digits (n) and a splitting point (m). The splitting point divides the numbers into halves.\n",
    "\n",
    "3. The numbers are split into four parts: a (higher digits of x), b (lower digits of x), c (higher digits of y), and d (lower digits of y).\n",
    "\n",
    "4. Recursive calls are made to compute three products: ac (higher halves of both numbers), bd (lower halves of both numbers), and ad_bc (cross-products).\n",
    "\n",
    "5. The final product is calculated using Karatsuba's formula: ac * 10^(2*m) + (a+b)*(c+d) - ac - bd * 10^m + bd.\n",
    "\n",
    "### Time Complexity Analysis:\n",
    "\n",
    "The time complexity of the Karatsuba multiplication algorithm can be analyzed using the recurrence relation T(n) = 3 * T(n/2) + O(n), where n is the number of digits in the input numbers.\n",
    "\n",
    "The three recursive multiplications each involve numbers of size n/2, and the cross-products step takes O(n) time.\n",
    "\n",
    "Using the Master Theorem's case 1 (c < log_b(a)), we find that c = 1, a = 3, b = 2, and log_b(a) ≈ 1.585.\n",
    "\n",
    "Since c < log_b(a), the time complexity is O(n^log₂3), approximately O(n^1.585).\n",
    "\n",
    "The Karatsuba algorithm is more efficient than the traditional O(n^2) multiplication method, making it preferable for large numbers. However, for extremely large numbers, more advanced algorithms like the Schönhage–Strassen algorithm provide even better time complexity."
   ]
  },
  {
   "cell_type": "markdown",
   "id": "ba5ef3cc",
   "metadata": {},
   "source": [
    "# divide and conquer max subarray problem"
   ]
  },
  {
   "cell_type": "code",
   "execution_count": 11,
   "id": "68ec4b2c",
   "metadata": {
    "scrolled": false
   },
   "outputs": [
    {
     "name": "stdout",
     "output_type": "stream",
     "text": [
      "Maximum subarray sum: 7\n",
      "Maximum subarray sum: 13\n"
     ]
    }
   ],
   "source": [
    "def max_crossing_subarray(arr, low, mid, high):\n",
    "    # Find the maximum sum subarray that crosses the midpoint\n",
    "    \n",
    "    left_sum = float(\"-inf\")\n",
    "    sum = 0\n",
    "    \n",
    "    # Find the maximum sum in the left half\n",
    "    for i in range(mid, low - 1, -1):\n",
    "        sum += arr[i]\n",
    "        if sum > left_sum:\n",
    "            left_sum = sum\n",
    "            \n",
    "    right_sum = float(\"-inf\")\n",
    "    sum = 0\n",
    "    \n",
    "    # Find the maximum sum in the right half\n",
    "    for i in range(mid + 1, high + 1):\n",
    "        sum += arr[i]\n",
    "        if sum > right_sum:\n",
    "            right_sum = sum\n",
    "            \n",
    "    # Return the sum of maximum subarray crossing the midpoint\n",
    "    return left_sum + right_sum\n",
    "\n",
    "def max_subarray(arr, low, high):\n",
    "    # Base case: If there's only one element, return it\n",
    "    if low == high:\n",
    "        return arr[low]\n",
    "    \n",
    "    mid = (low + high) // 2\n",
    "    \n",
    "    # Recursive calls to find maximum subarrays in left and right halves\n",
    "    left_max = max_subarray(arr, low, mid)\n",
    "    right_max = max_subarray(arr, mid + 1, high)\n",
    "    \n",
    "    # Find maximum subarray that crosses the midpoint\n",
    "    cross_max = max_crossing_subarray(arr, low, mid, high)\n",
    "    \n",
    "    # Return the maximum of left, right, and crossing subarray sums\n",
    "    return max(left_max, right_max, cross_max)\n",
    "\n",
    "def max_subarray_divide_and_conquer(arr):\n",
    "    return max_subarray(arr, 0, len(arr) - 1)\n",
    "\n",
    "# Example usage\n",
    "array = [-2, -3, 4, -1, -2, 1, 5, -3]\n",
    "result = max_subarray_divide_and_conquer(array)\n",
    "print(\"Maximum subarray sum:\", result)\n",
    "array = [-2, 3, -4, 7, -3, 5, 4, -5, 0, 4]\n",
    "result = max_subarray_divide_and_conquer(array)\n",
    "print(\"Maximum subarray sum:\", result)"
   ]
  },
  {
   "cell_type": "code",
   "execution_count": 14,
   "id": "951a607a",
   "metadata": {},
   "outputs": [
    {
     "name": "stdout",
     "output_type": "stream",
     "text": [
      "Maximum subarray sum: 5\n",
      "Maximum subarray sum: 8\n"
     ]
    }
   ],
   "source": [
    "def max_subarray(arr, low, mid, high):\n",
    "    left_sum = float('-inf')\n",
    "    sum = 0\n",
    "    \n",
    "    for i in range(mid, low-1, -1):\n",
    "        sum += arr[i]\n",
    "        if sum > left_sum:\n",
    "            left_sum = sum\n",
    "            \n",
    "    right_sum = float('-inf')\n",
    "    sum = 0\n",
    "    \n",
    "    for i in range(mid+1, high + 1):\n",
    "        sum += arr[i]\n",
    "        if sum > right_sum:\n",
    "            right_sum = sum\n",
    "            \n",
    "    return left_sum + right_sum\n",
    "\n",
    "def max_subarray_crossing(arr, low, high):\n",
    "    if low == high:\n",
    "        return arr[low]\n",
    "    \n",
    "    mid = (low + high) //2\n",
    "    \n",
    "    low = max_subarray_crossing(arr, low, mid)\n",
    "    high = max_subarray_crossing(arr, mid+1, high)\n",
    "    crossing = max_subarray(arr, low, mid, high)\n",
    "    \n",
    "    return max(low , high, crossing)\n",
    "\n",
    "def max_subarray_divide_and_conquer(arr):\n",
    "    return max_subarray_crossing(arr, 0, len(arr)-1)\n",
    "        \n",
    "\n",
    "array = [-2, -3, 4, -1, -2, 1, 5, -3]\n",
    "result = max_subarray_divide_and_conquer(array)\n",
    "print(\"Maximum subarray sum:\", result)\n",
    "array = [-2, 3, -4, 7, -3, 5, 4, -5, 0, 4]\n",
    "result = max_subarray_divide_and_conquer(array)\n",
    "print(\"Maximum subarray sum:\", result)"
   ]
  },
  {
   "cell_type": "markdown",
   "id": "52f1f7e3",
   "metadata": {},
   "source": [
    "### Explanation of Algorithm:\n",
    "\n",
    "1. The **max_crossing_subarray** function calculates the maximum subarray sum that crosses the midpoint of the array. It calculates the maximum sum in the left half and the right half.\n",
    "\n",
    "2. The **max_subarray** function is the main divide and conquer algorithm. It divides the problem into two halves and recursively calculates the maximum subarray sums in those halves. Then, it finds the maximum subarray sum that crosses the midpoint using **max_crossing_subarray**.\n",
    "\n",
    "3. The **max_subarray_divide_and_conquer** function serves as an entry point to the algorithm by taking an array and returning the maximum subarray sum.\n",
    "\n",
    "### Time Complexity Analysis:\n",
    "\n",
    "The time complexity of this Divide and Conquer approach for the maximum subarray problem is O(n log n), where n is the size of the input array. This is because the algorithm divides the array into smaller subproblems and solves each subproblem in O(n) time, and the recursion happens log n times (since the array is halved at each level). Therefore, the overall complexity is O(n log n)."
   ]
  },
  {
   "cell_type": "markdown",
   "id": "c9bd7a4e",
   "metadata": {},
   "source": [
    "# divide and conquer min subarray problem"
   ]
  },
  {
   "cell_type": "code",
   "execution_count": 13,
   "id": "d8327613",
   "metadata": {},
   "outputs": [
    {
     "name": "stdout",
     "output_type": "stream",
     "text": [
      "Minimum subarray sum: -9\n",
      "Minimum subarray sum: -5\n"
     ]
    }
   ],
   "source": [
    "def min_crossing_subarray(arr, low, mid, high):\n",
    "    # Find the minimum sum subarray that crosses the midpoint\n",
    "    \n",
    "    left_min = float(\"inf\")\n",
    "    sum = 0\n",
    "    \n",
    "    # Find the minimum sum in the left half\n",
    "    for i in range(mid, low - 1, -1):\n",
    "        sum += arr[i]\n",
    "        if sum < left_min:\n",
    "            left_min = sum\n",
    "            \n",
    "    right_min = float(\"inf\")\n",
    "    sum = 0\n",
    "    \n",
    "    # Find the minimum sum in the right half\n",
    "    for i in range(mid + 1, high + 1):\n",
    "        sum += arr[i]\n",
    "        if sum < right_min:\n",
    "            right_min = sum\n",
    "            \n",
    "    # Return the sum of minimum subarray crossing the midpoint\n",
    "    return left_min + right_min\n",
    "\n",
    "def min_subarray(arr, low, high):\n",
    "    # Base case: If there's only one element, return it\n",
    "    if low == high:\n",
    "        return arr[low]\n",
    "    \n",
    "    mid = (low + high) // 2\n",
    "    \n",
    "    # Recursive calls to find minimum subarrays in left and right halves\n",
    "    left_min = min_subarray(arr, low, mid)\n",
    "    right_min = min_subarray(arr, mid + 1, high)\n",
    "    \n",
    "    # Find minimum subarray that crosses the midpoint\n",
    "    cross_min = min_crossing_subarray(arr, low, mid, high)\n",
    "    \n",
    "    # Return the minimum of left, right, and crossing subarray sums\n",
    "    return min(left_min, right_min, cross_min)\n",
    "\n",
    "def min_subarray_divide_and_conquer(arr):\n",
    "    return min_subarray(arr, 0, len(arr) - 1)\n",
    "\n",
    "# Example usage\n",
    "array = [3, -4, 2, -1, -6, 1, 5, -3]\n",
    "result = min_subarray_divide_and_conquer(array)\n",
    "print(\"Minimum subarray sum:\", result)\n",
    "\n",
    "array = [-2, -3, 4, -1, -2, 1, 5, -3]\n",
    "result = min_subarray_divide_and_conquer(array)\n",
    "print(\"Minimum subarray sum:\", result)"
   ]
  },
  {
   "cell_type": "markdown",
   "id": "ea9d6b14",
   "metadata": {},
   "source": [
    "##### Explanation of Algorithm:\n",
    "\n",
    "1. The **min_crossing_subarray** function calculates the minimum subarray sum that crosses the midpoint of the array. It calculates the minimum sum in the left half and the right half.\n",
    "\n",
    "2. The **min_subarray** function is the main divide and conquer algorithm. It divides the problem into two halves and recursively calculates the minimum subarray sums in those halves. Then, it finds the minimum subarray sum that crosses the midpoint using min_crossing_subarray.\n",
    "\n",
    "3. The **min_subarray_divide_and_conquer** function serves as an entry point to the algorithm by taking an array and returning the minimum subarray sum.\n",
    "\n",
    "### Time Complexity Analysis:\n",
    "\n",
    "The time complexity of this Divide and Conquer approach for the minimum subarray problem is O(n log n), where n is the size of the input array. This is because the algorithm divides the array into smaller subproblems and solves each subproblem in O(n) time, and the recursion happens log n times (since the array is halved at each level). Therefore, the overall complexity is O(n log n).\n",
    "\n",
    "Just like the maximum subarray problem, the time complexity for the minimum subarray problem using Divide and Conquer is the same, O(n log n)."
   ]
  },
  {
   "cell_type": "code",
   "execution_count": null,
   "id": "38198e3a",
   "metadata": {},
   "outputs": [],
   "source": []
  }
 ],
 "metadata": {
  "kernelspec": {
   "display_name": "Python 3 (ipykernel)",
   "language": "python",
   "name": "python3"
  },
  "language_info": {
   "codemirror_mode": {
    "name": "ipython",
    "version": 3
   },
   "file_extension": ".py",
   "mimetype": "text/x-python",
   "name": "python",
   "nbconvert_exporter": "python",
   "pygments_lexer": "ipython3",
   "version": "3.9.13"
  }
 },
 "nbformat": 4,
 "nbformat_minor": 5
}
