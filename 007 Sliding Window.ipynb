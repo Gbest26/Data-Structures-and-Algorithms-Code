{
 "cells": [
  {
   "cell_type": "markdown",
   "id": "cdc39b62",
   "metadata": {},
   "source": [
    "# find the max subarray sum using sliding window"
   ]
  },
  {
   "cell_type": "code",
   "execution_count": 36,
   "id": "86d3b848",
   "metadata": {
    "scrolled": false
   },
   "outputs": [
    {
     "name": "stdout",
     "output_type": "stream",
     "text": [
      "Maximum sum of subarray of size 4 : 182\n"
     ]
    }
   ],
   "source": [
    "def max_subarray_sum(arr, k):\n",
    "    n = len(arr)\n",
    "    \n",
    "    # Check for invalid input\n",
    "    if k <= 0 or k > n:\n",
    "        return \"Invalid input\"\n",
    "    \n",
    "    max_sum = float('-inf')  # Initialize max_sum to negative infinity\n",
    "    current_sum = sum(arr[:k])  # Calculate sum of the first subarray of size k\n",
    "    \n",
    "    # Initialize the starting and ending indices of the window\n",
    "    start, end = 0, k - 1\n",
    "    \n",
    "    while end < n - 1:\n",
    "        max_sum = max(max_sum, current_sum)  # Update max_sum\n",
    "        \n",
    "        # Move the window by one element to the right\n",
    "        end += 1\n",
    "        current_sum += arr[end]\n",
    "        \n",
    "        # Remove the element at the beginning of the window\n",
    "        current_sum -= arr[start]\n",
    "        start += 1\n",
    "    \n",
    "    # After the loop, check the last subarray\n",
    "    max_sum = max(max_sum, current_sum)\n",
    "    \n",
    "    return max_sum\n",
    "\n",
    "# Example usage:\n",
    "arr = [2, 1, 5, 1, 3, 2,4, 7, 8, 58, 29, 1, 94, 0, 65]\n",
    "k = 4\n",
    "result = max_subarray_sum(arr, k)\n",
    "print(\"Maximum sum of subarray of size\", k, \":\", result)"
   ]
  },
  {
   "cell_type": "markdown",
   "id": "df316652",
   "metadata": {},
   "source": [
    "### Here's how the code works:\n",
    "\n",
    "1. We start with initializing max_sum to negative infinity because we want to find the maximum sum, and current_sum is calculated by summing the first subarray of size k.\n",
    "\n",
    "2. We use a sliding window approach with two pointers, start and end, to keep track of the current subarray.\n",
    "\n",
    "3. We move the end pointer to the right to include the next element in the window and update current_sum accordingly.\n",
    "\n",
    "4. We move the start pointer to exclude the element that is no longer part of the current subarray. We do this by subtracting the element at the start position from current_sum.\n",
    "\n",
    "5. In each step, we update max_sum to store the maximum sum found so far.\n",
    "\n",
    "6. Finally, after the loop, we check the last subarray since the end pointer has reached the end of the array.\n",
    "\n",
    "The time complexity of this sliding window algorithm is O(n), where n is the size of the input array. This is because we iterate through the array once, and for each iteration, we perform constant-time operations. The space complexity is O(1) as we only use a few variables to keep track of the sliding window and maximum sum."
   ]
  },
  {
   "cell_type": "markdown",
   "id": "85767d3c",
   "metadata": {},
   "source": [
    "# smallest subarray using sliding window"
   ]
  },
  {
   "cell_type": "code",
   "execution_count": 66,
   "id": "a505ada2",
   "metadata": {
    "scrolled": false
   },
   "outputs": [
    {
     "name": "stdout",
     "output_type": "stream",
     "text": [
      "Smallest subarray with sum greater than or equal to 7 : 2\n"
     ]
    }
   ],
   "source": [
    "def smallest_subarray_with_sum(arr, target):\n",
    "    n = len(arr)\n",
    "    \n",
    "    # Initialize variables for tracking the subarray\n",
    "    min_length = float('inf')\n",
    "    current_sum = 0\n",
    "    start = 0\n",
    "    \n",
    "    for end in range(n):\n",
    "        current_sum += arr[end]  # Add the current element to the sum\n",
    "        \n",
    "        # Check if the current sum is greater than or equal to the target\n",
    "        while current_sum >= target:\n",
    "            min_length = min(min_length, end - start + 1)  # Update the minimum length\n",
    "            current_sum -= arr[start]  # Remove the element at the start\n",
    "            start += 1  # Move the start pointer\n",
    "        \n",
    "    # If min_length is still infinity, no subarray was found\n",
    "    return min_length if min_length != float('inf') else 0\n",
    "\n",
    "# Example usage:\n",
    "arr = [1, 1, 5, 2, 3, 2]\n",
    "target = 7\n",
    "result = smallest_subarray_with_sum(arr, target)\n",
    "print(\"Smallest subarray with sum greater than or equal to\", target, \":\", result)"
   ]
  },
  {
   "cell_type": "markdown",
   "id": "e23b65ee",
   "metadata": {},
   "source": [
    "### Here's how the code works:\n",
    "\n",
    "1. We initialize variables, including min_length to positive infinity, current_sum to 0, and start to 0.\n",
    "\n",
    "2. We use two pointers, start and end, to define the current subarray.\n",
    "\n",
    "3. We iterate through the array from left to right (with the end pointer), adding elements to current_sum.\n",
    "\n",
    "4. When current_sum becomes greater than or equal to the target value, we enter a loop to try to minimize the subarray size. We do this by moving the start pointer to the right and subtracting elements from current_sum.\n",
    "\n",
    "5. In each iteration, we update min_length to store the minimum subarray length found so far.\n",
    "\n",
    "6. Finally, we return min_length, which will be the length of the smallest subarray with a sum greater than or equal to the target.\n",
    "\n",
    "The time complexity of this sliding window algorithm is O(n), where n is the size of the input array. This is because we iterate through the array once, and for each iteration, we perform constant-time operations. The space complexity is O(1) as we only use a few variables to keep track of the sliding window and minimum length."
   ]
  },
  {
   "cell_type": "markdown",
   "id": "de52eb33",
   "metadata": {},
   "source": [
    "# panlindrome"
   ]
  },
  {
   "cell_type": "code",
   "execution_count": 14,
   "id": "8d01c076",
   "metadata": {},
   "outputs": [
    {
     "name": "stdout",
     "output_type": "stream",
     "text": [
      "Input: A man a plan a canal Panama\n",
      "Is it a palindrome? True\n",
      "Input: racecar\n",
      "Is it a palindrome? True\n",
      "Input: hello\n",
      "Is it a palindrome? False\n"
     ]
    }
   ],
   "source": [
    "def is_palindrome(input_string):\n",
    "    # Remove spaces and convert the input string to lowercase\n",
    "    clean_string = \"\".join(input_string.split()).lower()\n",
    "\n",
    "    # Compare the cleaned string with its reverse\n",
    "    return clean_string == clean_string[::-1]\n",
    "\n",
    "\n",
    "\n",
    "print(f\"Input: {input_string1}\")\n",
    "print(f\"Is it a palindrome? {result1}\")  # Output: True\n",
    "\n",
    "print(f\"Input: {input_string2}\")\n",
    "print(f\"Is it a palindrome? {result2}\")  # Output: True\n",
    "\n",
    "print(f\"Input: {input_string3}\")\n",
    "print(f\"Is it a palindrome? {result3}\")  # Output: False\n",
    "\n",
    "# Test the code with examples\n",
    "input_string1 = \"A man a plan a canal Panama\"\n",
    "input_string2 = \"racecar\"\n",
    "input_string3 = \"hello\"\n",
    "\n",
    "result1 = is_palindrome(input_string1)\n",
    "result2 = is_palindrome(input_string2)\n",
    "result3 = is_palindrome(input_string3)"
   ]
  },
  {
   "cell_type": "markdown",
   "id": "c6627ab8",
   "metadata": {},
   "source": [
    "### Explanation:\n",
    "\n",
    "1. The is_palindrome function takes an input string as its argument.\n",
    "\n",
    "2. Within is_palindrome, we first remove spaces from the input string and convert it to lowercase. This step is optional but helps in handling cases where palindromes have different cases or spaces.\n",
    "\n",
    "3. After cleaning the string, we check if it's equal to its reverse. We achieve this by comparing clean_string with clean_string[::-1], which is the reverse of the string.\n",
    "\n",
    "4. If the cleaned string is equal to its reverse, we return True, indicating that the input string is a palindrome. Otherwise, we return False.\n",
    "\n",
    "### Complexity Analysis:\n",
    "\n",
    "Time Complexity: The time complexity of this code is `O(n)`, where 'n' is the length of the input string. This is because we iterate through the characters of the input string once to clean it and then compare it to its reverse, which also takes `O(n)` time.\n",
    "\n",
    "**Space Complexity:** The space complexity is `O(n)`, where `'n'` is the length of the input string. This is because we create a cleaned version of the input string, which can have the same length as the original string in the worst case. Other than that, the code uses a constant amount of additional space for variables, so the overall space complexity is dominated by the cleaned string."
   ]
  },
  {
   "cell_type": "markdown",
   "id": "003274b7",
   "metadata": {},
   "source": [
    "# Strings Permutation."
   ]
  },
  {
   "cell_type": "code",
   "execution_count": 28,
   "id": "ee92a6b8",
   "metadata": {},
   "outputs": [
    {
     "name": "stdout",
     "output_type": "stream",
     "text": [
      "abc\n",
      "acb\n",
      "bac\n",
      "bca\n",
      "cab\n",
      "cba\n"
     ]
    }
   ],
   "source": [
    "def get_permutations(input_string):\n",
    "    # Helper function to recursively generate permutations\n",
    "    def generate_permutations(current, remaining):\n",
    "        if not remaining:  # If there are no characters left to permute, add the current permutation to the result list\n",
    "            permutations.append(current)\n",
    "        else:\n",
    "            for i in range(len(remaining)):\n",
    "                # Take one character from the remaining characters and append it to the current permutation\n",
    "                new_current = current + remaining[i]\n",
    "                # Remove the selected character from the remaining characters\n",
    "                new_remaining = remaining[:i] + remaining[i+1:]\n",
    "                # Recursively generate permutations with the updated current and remaining characters\n",
    "                generate_permutations(new_current, new_remaining)\n",
    "\n",
    "    permutations = []  # Initialize an empty list to store the permutations\n",
    "    generate_permutations(\"\", input_string)  # Start the recursion with an empty current permutation\n",
    "    return permutations\n",
    "\n",
    "# Test the code\n",
    "input_string = \"abc\"\n",
    "result = get_permutations(input_string)\n",
    "for perm in result:\n",
    "    print(perm)"
   ]
  },
  {
   "cell_type": "markdown",
   "id": "fe929652",
   "metadata": {},
   "source": [
    "### Explanation:\n",
    "\n",
    "1. The get_permutations function takes an input string and initializes an empty list called permutations to store the generated permutations.\n",
    "\n",
    "2. Within get_permutations, there's a helper function generate_permutations that does the recursive work. It takes two arguments: current, which represents the current permutation being constructed, and remaining, which represents the characters that are left to be permuted.\n",
    "\n",
    "3. In the generate_permutations function, we check if there are no remaining characters to permute. If so, we add the current permutation to the permutations list.\n",
    "\n",
    "4. If there are remaining characters, we iterate through them using a for loop. For each character, we add it to the current permutation, remove it from the remaining characters, and then recursively call generate_permutations with the updated current and remaining.\n",
    "\n",
    "5. Finally, we call generate_permutations with an empty current string and the input string, which initiates the recursive process.\n",
    "\n",
    "6. The result is a list of all permutations, which is returned by the get_permutations function.\n",
    "\n",
    "### Complexity Analysis:\n",
    "\n",
    "**Time Complexity:** The time complexity of this code is `O(n!)`, where `'n'` is the length of the input string. This is because there are `n! (n factorial)` possible permutations, and the code generates all of them through recursive calls.\n",
    "\n",
    "Space Complexity: The space complexity is also O(n!), as the code stores all permutations in the permutations list. The space required for recursion on the call stack is relatively small and can be ignored in the analysis."
   ]
  },
  {
   "cell_type": "code",
   "execution_count": null,
   "id": "cc9a0769",
   "metadata": {},
   "outputs": [],
   "source": []
  }
 ],
 "metadata": {
  "kernelspec": {
   "display_name": "Python 3 (ipykernel)",
   "language": "python",
   "name": "python3"
  },
  "language_info": {
   "codemirror_mode": {
    "name": "ipython",
    "version": 3
   },
   "file_extension": ".py",
   "mimetype": "text/x-python",
   "name": "python",
   "nbconvert_exporter": "python",
   "pygments_lexer": "ipython3",
   "version": "3.9.13"
  }
 },
 "nbformat": 4,
 "nbformat_minor": 5
}
