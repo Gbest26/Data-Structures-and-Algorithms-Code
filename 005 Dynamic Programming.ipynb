{
 "cells": [
  {
   "cell_type": "markdown",
   "id": "61168dd8",
   "metadata": {},
   "source": [
    "# Rod Cutting Problem"
   ]
  },
  {
   "cell_type": "code",
   "execution_count": 7,
   "id": "453a283c",
   "metadata": {
    "scrolled": true
   },
   "outputs": [
    {
     "name": "stdout",
     "output_type": "stream",
     "text": [
      "Maximum revenue: 10\n"
     ]
    }
   ],
   "source": [
    "def rod_cutting(price, n):\n",
    "    # Create a list to store the maximum revenue for rod lengths 0 to n\n",
    "    max_revenue = [0] * (n + 1)\n",
    "    \n",
    "    for i in range(1, n + 1):\n",
    "        max_val = -1\n",
    "        \n",
    "        # For each cut length j, calculate the maximum revenue\n",
    "        for j in range(1, i + 1):\n",
    "            max_val = max(max_val, price[j] + max_revenue[i - j])\n",
    "        \n",
    "        # Store the maximum revenue for rod length i\n",
    "        max_revenue[i] = max_val\n",
    "        \n",
    "    return max_revenue[n]\n",
    "\n",
    "# Example usage\n",
    "rod_prices = [0, 2, 5, 7, 8]\n",
    "rod_length = 4\n",
    "result = rod_cutting(rod_prices, rod_length)\n",
    "print(\"Maximum revenue:\", result)"
   ]
  },
  {
   "cell_type": "markdown",
   "id": "75566c22",
   "metadata": {},
   "source": [
    "## Explanation of the Code:\n",
    "\n",
    "1. The rod_cutting function takes two parameters: price (a list of prices for different rod lengths) and n (the length of the rod).\n",
    "\n",
    "2. The function aims to find the maximum revenue that can be obtained by cutting the rod into different pieces and selling them according to their respective prices.\n",
    "\n",
    "3. The function uses a Dynamic Programming approach to solve the problem.\n",
    "\n",
    "4. An array max_revenue is created to store the maximum revenue that can be obtained for rod lengths from 0 to n.\n",
    "\n",
    "5. The value of max_revenue[0] is initialized to 0, as no revenue can be obtained from a rod of length 0.\n",
    "\n",
    "6. The outer loop iterates through each rod length from 1 to n.\n",
    "\n",
    "7. Inside the outer loop, an inner loop iterates through all possible cut lengths j from 1 to the current rod length i.\n",
    "\n",
    "8. For each cut length j, the function calculates the maximum revenue by adding the price of the piece cut at length j and the maximum revenue obtained from the remaining rod length i - j.\n",
    "\n",
    "9. The calculated maximum revenue value is updated in the variable max_val.\n",
    "\n",
    "10. After the inner loop completes, the maximum revenue for the current rod length i is stored in the max_revenue array at index i.\n",
    "\n",
    "11. After both loops complete, the final result is obtained from max_revenue[n], which represents the maximum revenue that can be obtained for a rod of length n.\n",
    "\n",
    "12. The function returns the calculated maximum revenue.\n",
    "\n",
    "13. In the example usage section, a list of rod prices [0, 2, 5, 7, 8] and a rod length of 4 are provided.\n",
    "\n",
    "14. The rod_cutting function is called with the rod prices and length. The maximum revenue that can be obtained by cutting the rod is printed as the output.\n",
    "\n",
    "### Time Complexity Analysis:\n",
    "\n",
    "The time complexity of the Dynamic Programming approach for the Rod Cutting problem is O(n^2), where n is the length of the rod.\n",
    "\n",
    "For each rod length i from 1 to n, we iterate through all possible cut lengths j from 1 to i. Therefore, the number of iterations is roughly proportional to 1 + 2 + 3 + ... + n, which is proportional to n^2.\n",
    "\n",
    "The calculations within the inner loop involve constant time operations (addition and comparison), so the overall time complexity is O(n^2).\n",
    "\n",
    "Dynamic Programming provides an efficient solution to the Rod Cutting problem compared to naive recursive approaches, which could have exponential time complexity."
   ]
  },
  {
   "cell_type": "markdown",
   "id": "718cf9c0",
   "metadata": {},
   "source": [
    "# Coin Change Bottom-top problem"
   ]
  },
  {
   "cell_type": "code",
   "execution_count": 9,
   "id": "8a43c1a1",
   "metadata": {
    "scrolled": false
   },
   "outputs": [
    {
     "name": "stdout",
     "output_type": "stream",
     "text": [
      "Minimum number of coins: 3\n"
     ]
    }
   ],
   "source": [
    "def coin_change(coins, amount):\n",
    "    # Initialize an array to store the minimum number of coins for each amount\n",
    "    dp = [float(\"inf\")] * (amount + 1)\n",
    "    dp[0] = 0  # Zero coins needed to make amount 0\n",
    "    \n",
    "    for i in range(1, amount + 1):\n",
    "        # For each amount, try all available coins\n",
    "        for coin in coins:\n",
    "            if i >= coin:\n",
    "                dp[i] = min(dp[i], dp[i - coin] + 1)\n",
    "    \n",
    "    return dp[amount] if dp[amount] != float(\"inf\") else -1\n",
    "\n",
    "# Example usage\n",
    "coin_denominations = [1, 2, 5]\n",
    "amount = 11\n",
    "result = coin_change(coin_denominations, amount)\n",
    "print(\"Minimum number of coins:\", result)"
   ]
  },
  {
   "cell_type": "markdown",
   "id": "ff9c31d3",
   "metadata": {},
   "source": [
    "### Explanation of the Code:\n",
    "\n",
    "1. The coin_change function takes two parameters: coins (a list of coin denominations) and amount (the target amount).\n",
    "\n",
    "2. The goal of the function is to find the minimum number of coins needed to make the target amount using the given coin denominations.\n",
    "\n",
    "3. The function uses a Dynamic Programming approach to solve the problem.\n",
    "\n",
    "4. An array dp is initialized to store the minimum number of coins needed for each amount from 0 to amount.\n",
    "\n",
    "5. dp[0] is set to 0, as zero coins are needed to make the amount 0.\n",
    "\n",
    "6. The outer loop iterates through each amount from 1 to the target amount.\n",
    "\n",
    "7. Inside the outer loop, there's an inner loop that iterates through all available coin denominations.\n",
    "\n",
    "8. For each amount i and each coin denomination, the function checks if the current coin denomination can be used to make the current amount.\n",
    "\n",
    "9. If the current coin denomination is less than or equal to the current amount, the function calculates the minimum of the current value of dp[i] and dp[i - coin] + 1. This represents the minimum number of coins needed to make the current amount, considering the current coin denomination and the amount that remains after using that coin.\n",
    "\n",
    "10. The calculated minimum value is updated in the dp array at index i.\n",
    "\n",
    "11. After both loops complete, the final result is obtained from dp[amount], which represents the minimum number of coins needed to make the target amount.\n",
    "\n",
    "12. The function returns the calculated result, which is the minimum number of coins needed to make the target amount, or -1 if it's not possible to make the amount using the given coin denominations.\n",
    "\n",
    "13. In the example usage section, a list of coin denominations [1, 2, 5] and a target amount of 11 are provided.\n",
    "\n",
    "13. The coin_change function is called with the coin denominations and the target amount. The minimum number of coins needed to make the target amount is printed as the output.\n",
    "\n",
    "### Time Complexity Analysis:\n",
    "\n",
    "The time complexity of the Dynamic Programming approach for the Coin Change problem is O(amount * n), where amount is the target amount and n is the number of coin denominations.\n",
    "\n",
    "For each amount i from 1 to amount, we iterate through all n coin denominations to calculate the minimum number of coins needed for that amount. Therefore, the total number of iterations is proportional to amount * n.\n",
    "\n",
    "The calculations within the inner loop involve constant time operations, so the overall time complexity is O(amount * n).\n",
    "\n",
    "Dynamic Programming provides an efficient solution to the Coin Change problem compared to naive recursive approaches, which could have exponential time complexity."
   ]
  },
  {
   "cell_type": "markdown",
   "id": "4e0bdb5f",
   "metadata": {},
   "source": [
    "# Coin Change Top-Down problem"
   ]
  },
  {
   "cell_type": "code",
   "execution_count": 19,
   "id": "88d8b115",
   "metadata": {},
   "outputs": [
    {
     "name": "stdout",
     "output_type": "stream",
     "text": [
      "Minimum number of coins: 3\n"
     ]
    }
   ],
   "source": [
    "def coin_change(coins, amount, memo):\n",
    "    if amount == 0:\n",
    "        return 0\n",
    "    if amount in memo:\n",
    "        return memo[amount]\n",
    "    \n",
    "    min_coins = float(\"inf\")\n",
    "    for coin in coins:\n",
    "        if amount >= coin:\n",
    "            min_coins = min(min_coins, coin_change(coins, amount - coin, memo) + 1)\n",
    "    \n",
    "    memo[amount] = min_coins\n",
    "    return min_coins\n",
    "\n",
    "# Example usage\n",
    "coin_denominations = [1, 2, 5]\n",
    "amount = 11\n",
    "memo = {}  # Memoization dictionary\n",
    "result_top_down = coin_change(coin_denominations, amount, memo)\n",
    "print(\"Minimum number of coins:\", result_top_down)"
   ]
  },
  {
   "cell_type": "markdown",
   "id": "4bf3cb9b",
   "metadata": {},
   "source": [
    "### Explanation of the Code:\n",
    "\n",
    "1. The coin_change_top_down function takes three parameters: coins (a list of coin denominations), amount (the target amount), and memo (a memoization dictionary to store computed results for different amounts).\n",
    "\n",
    "2. The function is designed to find the minimum number of coins needed to make the target amount using the given coin denominations.\n",
    "\n",
    "3. The function uses a recursive approach with memoization. It first checks if the solution for the given amount is already computed and stored in the memo dictionary. If it is, the precomputed result is returned directly, which helps avoid redundant calculations.\n",
    "\n",
    "4. The base case of the recursion is when amount is 0. In this case, no coins are needed, so the function returns 0.\n",
    "\n",
    "5. If the solution for the current amount is not found in the memo dictionary, the function iterates through all available coin denominations.\n",
    "\n",
    "6. For each coin denomination, the function checks if the amount is greater than or equal to the coin value. If it is, the function makes a recursive call with the reduced amount after subtracting the coin value. It also adds 1 to the result, as one more coin is added to the solution.\n",
    "\n",
    "7. The min_coins variable is used to track the minimum number of coins needed to make the current amount.\n",
    "\n",
    "8. Once the loop completes, the minimum result is stored in the memo dictionary for the current amount.\n",
    "\n",
    "9. Finally, the function returns the minimum number of coins needed for the given amount.\n",
    "\n",
    "10. In the example usage section, a list of coin denominations [1, 2, 5] and a target amount of 11 are provided. The memo dictionary is initialized as an empty dictionary.\n",
    "\n",
    "11. The coin_change_top_down function is called with the coin denominations, target amount, and memo dictionary. The result is stored in result_top_down.\n",
    "\n",
    "12. The minimum number of coins needed to make the target amount is printed as the output.\n",
    "\n",
    "### Time Complexity Analysis:\n",
    "\n",
    "The time complexity of the Top-Down approach with memoization depends on the number of distinct subproblems that need to be solved. Since memoization prevents redundant calculations, the actual number of recursive calls is reduced.\n",
    "\n",
    "In general, the time complexity with memoization is determined by the number of distinct amounts from 1 to the target amount and the number of available coin denominations. The worst-case time complexity with memoization is still exponential, specifically O(k^n), where k is the number of coin denominations and n is the target amount. However, due to memoization, the actual number of recursive calls is significantly reduced, leading to better performance compared to the naive recursive approach."
   ]
  },
  {
   "cell_type": "markdown",
   "id": "dd063a3a",
   "metadata": {},
   "source": [
    "# 0-1Knapsack problem"
   ]
  },
  {
   "cell_type": "code",
   "execution_count": 86,
   "id": "b99fde8d",
   "metadata": {
    "scrolled": false
   },
   "outputs": [
    {
     "name": "stdout",
     "output_type": "stream",
     "text": [
      "Maximum value: 220\n"
     ]
    }
   ],
   "source": [
    "def knapsack_01(values, weights, capacity):\n",
    "    n = len(values)\n",
    "    \n",
    "    # Initialize a 2D array to store the maximum value for each item and capacity\n",
    "    dp = [[0] * (capacity + 1) for _ in range(n + 1)]\n",
    "    \n",
    "    for i in range(1, n + 1):\n",
    "        for w in range(1, capacity + 1):\n",
    "            # If current item's weight exceeds the capacity, skip it\n",
    "            if weights[i - 1] > w:\n",
    "                dp[i][w] = dp[i - 1][w]\n",
    "            else:\n",
    "                # Choose the maximum value between including or excluding the current item\n",
    "                dp[i][w] = max(dp[i - 1][w], values[i - 1] + dp[i - 1][w - weights[i - 1]])\n",
    "    \n",
    "    return dp[n][capacity]\n",
    "\n",
    "# Example usage\n",
    "values = [60, 100, 120]\n",
    "weights = [10, 20, 30]\n",
    "capacity = 50\n",
    "result = knapsack_01(values, weights, capacity)\n",
    "print(\"Maximum value:\", result)"
   ]
  },
  {
   "cell_type": "code",
   "execution_count": 4,
   "id": "41981100",
   "metadata": {},
   "outputs": [
    {
     "name": "stdout",
     "output_type": "stream",
     "text": [
      "Maximum value: 220\n"
     ]
    }
   ],
   "source": [
    "def knapsack_01(values, weights,capacity):\n",
    "    n = len(values)\n",
    "    dp = [[0] * (capacity + 1) for _ in range(n + 1)]\n",
    "    \n",
    "    for i in range(1, n + 1):\n",
    "        for w in range(1, capacity + 1):\n",
    "            if weights[i - 1] > w:\n",
    "                dp[i][w] = dp[i-1][w]\n",
    "            else:\n",
    "                dp[i][w] = max(dp[i-1][w], values[i-1] + dp[i-1][w-weights[i-1]])\n",
    "    return dp[n][capacity]\n",
    "\n",
    "values = [60, 100, 120]\n",
    "weights = [10, 20, 30]\n",
    "capacity = 50\n",
    "result = knapsack_01(values, weights, capacity)\n",
    "print(\"Maximum value:\", result)"
   ]
  },
  {
   "cell_type": "markdown",
   "id": "7715f2da",
   "metadata": {},
   "source": [
    "### Explanation of the Code:\n",
    "\n",
    "1. The knapsack_01 function takes three parameters: values (a list of item values), weights (a list of item weights), and capacity (the maximum weight the knapsack can hold).\n",
    "\n",
    "2. The function aims to find the maximum value that can be obtained by choosing items to put in the knapsack, subject to the constraint that the total weight does not exceed the capacity.\n",
    "\n",
    "3. The function uses a Dynamic Programming approach to solve the problem.\n",
    "\n",
    "4. A 2D array dp is initialized to store the maximum value for each combination of items and capacities. The array has dimensions (n + 1) x (capacity + 1).\n",
    "\n",
    "5. The outer loop iterates through each item from 1 to n.\n",
    "\n",
    "6. Inside the outer loop, there's an inner loop that iterates through each possible capacity from 1 to capacity.\n",
    "\n",
    "7. For each item i and each capacity w, the function checks if the weight of the current item (weights[i - 1]) exceeds the current capacity w. If it does, the current item cannot be included, so the maximum value remains the same as the previous item's value with the same capacity (dp[i - 1][w]).\n",
    "\n",
    "8. If the weight of the current item does not exceed the capacity, the function chooses the maximum value between two options:\n",
    "\n",
    ". Excluding the current item: dp[i - 1][w] \n",
    "\n",
    ". Including the current item: values[i - 1] (value of the current item) + dp[i - 1][w - weights[i - 1]] (value of remaining capacity after including the current item)\n",
    "\n",
    "9. The maximum value is updated in the dp array at index [i][w].\n",
    "\n",
    "10. After both loops complete, the final result is obtained from dp[n][capacity], which represents the maximum value that can be obtained with all items and the given capacity.\n",
    "\n",
    "11. The function returns the calculated maximum value.\n",
    "\n",
    "12. In the example usage section, lists of item values [60, 100, 120], item weights [10, 20, 30], and a capacity of 50 are provided.\n",
    "\n",
    "13. The knapsack_01 function is called with the item values, item weights, and capacity. The maximum value that can be obtained by filling the knapsack is printed as the output.\n",
    "\n",
    "### Time Complexity Analysis:\n",
    "\n",
    "The time complexity of the Dynamic Programming approach for the 0-1 Knapsack problem is O(n * capacity), where n is the number of items and capacity is the maximum capacity of the knapsack.\n",
    "\n",
    "The nested loops iterate through all combinations of items and capacities once, and the calculations within the loops involve constant time operations (comparisons and additions). Therefore, the overall time complexity is O(n * capacity).\n",
    "\n",
    "Dynamic Programming provides an efficient solution to the 0-1 Knapsack problem compared to naive recursive approaches, which could have exponential time complexity. The dynamic programming approach optimally solves the problem in polynomial time."
   ]
  },
  {
   "cell_type": "markdown",
   "id": "da487005",
   "metadata": {},
   "source": [
    "# Longest Common Subsequence Problem"
   ]
  },
  {
   "cell_type": "code",
   "execution_count": 10,
   "id": "9405070f",
   "metadata": {},
   "outputs": [
    {
     "name": "stdout",
     "output_type": "stream",
     "text": [
      "Length of Longest Common Subsequence: 5\n"
     ]
    }
   ],
   "source": [
    "def longest_common_subsequence(text1, text2):\n",
    "    m, n = len(text1), len(text2)\n",
    "    \n",
    "    # Initialize a 2D array to store the lengths of LCS\n",
    "    dp = [[0] * (n + 1) for _ in range(m + 1)]\n",
    "    \n",
    "    for i in range(1, m + 1):\n",
    "        for j in range(1, n + 1):\n",
    "            if text1[i - 1] == text2[j - 1]:\n",
    "                dp[i][j] = dp[i - 1][j - 1] + 1\n",
    "            else:\n",
    "                dp[i][j] = max(dp[i - 1][j], dp[i][j - 1])\n",
    "    \n",
    "    return dp[m][n]\n",
    "\n",
    "# Example usage\n",
    "text1 = \"abcdesd\"\n",
    "text2 = \"acesd\"\n",
    "result = longest_common_subsequence(text1, text2)\n",
    "print(\"Length of Longest Common Subsequence:\", result)"
   ]
  },
  {
   "cell_type": "code",
   "execution_count": 5,
   "id": "278a391d",
   "metadata": {},
   "outputs": [
    {
     "ename": "NameError",
     "evalue": "name 'text' is not defined",
     "output_type": "error",
     "traceback": [
      "\u001b[1;31m---------------------------------------------------------------------------\u001b[0m",
      "\u001b[1;31mNameError\u001b[0m                                 Traceback (most recent call last)",
      "\u001b[1;32m~\\AppData\\Local\\Temp\\ipykernel_5784\\343180651.py\u001b[0m in \u001b[0;36m<module>\u001b[1;34m\u001b[0m\n\u001b[0;32m     19\u001b[0m \u001b[0mtext1\u001b[0m \u001b[1;33m=\u001b[0m \u001b[1;34m\"abcdesd\"\u001b[0m\u001b[1;33m\u001b[0m\u001b[1;33m\u001b[0m\u001b[0m\n\u001b[0;32m     20\u001b[0m \u001b[0mtext2\u001b[0m \u001b[1;33m=\u001b[0m \u001b[1;34m\"acesd\"\u001b[0m\u001b[1;33m\u001b[0m\u001b[1;33m\u001b[0m\u001b[0m\n\u001b[1;32m---> 21\u001b[1;33m \u001b[0mresult\u001b[0m \u001b[1;33m=\u001b[0m \u001b[0mlongest_common_subsequence\u001b[0m\u001b[1;33m(\u001b[0m\u001b[0mtext1\u001b[0m\u001b[1;33m,\u001b[0m \u001b[0mtext2\u001b[0m\u001b[1;33m)\u001b[0m\u001b[1;33m\u001b[0m\u001b[1;33m\u001b[0m\u001b[0m\n\u001b[0m\u001b[0;32m     22\u001b[0m \u001b[0mprint\u001b[0m\u001b[1;33m(\u001b[0m\u001b[1;34m\"Length of Longest Common Subsequence:\"\u001b[0m\u001b[1;33m,\u001b[0m \u001b[0mresult\u001b[0m\u001b[1;33m)\u001b[0m\u001b[1;33m\u001b[0m\u001b[1;33m\u001b[0m\u001b[0m\n",
      "\u001b[1;32m~\\AppData\\Local\\Temp\\ipykernel_5784\\343180651.py\u001b[0m in \u001b[0;36mlongest_common_subsequence\u001b[1;34m(text1, text2)\u001b[0m\n\u001b[0;32m      6\u001b[0m     \u001b[1;32mfor\u001b[0m \u001b[0mi\u001b[0m \u001b[1;32min\u001b[0m \u001b[0mrange\u001b[0m\u001b[1;33m(\u001b[0m\u001b[1;36m1\u001b[0m\u001b[1;33m,\u001b[0m \u001b[0mm\u001b[0m \u001b[1;33m+\u001b[0m \u001b[1;36m1\u001b[0m\u001b[1;33m)\u001b[0m\u001b[1;33m:\u001b[0m\u001b[1;33m\u001b[0m\u001b[1;33m\u001b[0m\u001b[0m\n\u001b[0;32m      7\u001b[0m         \u001b[1;32mfor\u001b[0m \u001b[0mj\u001b[0m \u001b[1;32min\u001b[0m \u001b[0mrange\u001b[0m\u001b[1;33m(\u001b[0m\u001b[1;36m1\u001b[0m\u001b[1;33m,\u001b[0m \u001b[0mn\u001b[0m \u001b[1;33m+\u001b[0m \u001b[1;36m1\u001b[0m\u001b[1;33m)\u001b[0m\u001b[1;33m:\u001b[0m\u001b[1;33m\u001b[0m\u001b[1;33m\u001b[0m\u001b[0m\n\u001b[1;32m----> 8\u001b[1;33m             \u001b[1;32mif\u001b[0m \u001b[0mtext\u001b[0m\u001b[1;33m[\u001b[0m\u001b[0mi\u001b[0m \u001b[1;33m-\u001b[0m \u001b[1;36m1\u001b[0m\u001b[1;33m]\u001b[0m \u001b[1;33m==\u001b[0m  \u001b[0mtext\u001b[0m\u001b[1;33m[\u001b[0m\u001b[0mj\u001b[0m \u001b[1;33m-\u001b[0m \u001b[1;36m1\u001b[0m\u001b[1;33m]\u001b[0m\u001b[1;33m:\u001b[0m\u001b[1;33m\u001b[0m\u001b[1;33m\u001b[0m\u001b[0m\n\u001b[0m\u001b[0;32m      9\u001b[0m                 \u001b[0mdp\u001b[0m\u001b[1;33m[\u001b[0m\u001b[0mi\u001b[0m\u001b[1;33m]\u001b[0m\u001b[1;33m[\u001b[0m\u001b[0mj\u001b[0m\u001b[1;33m]\u001b[0m \u001b[1;33m=\u001b[0m \u001b[0mdp\u001b[0m\u001b[1;33m[\u001b[0m\u001b[0mi\u001b[0m\u001b[1;33m-\u001b[0m\u001b[1;36m1\u001b[0m\u001b[1;33m]\u001b[0m\u001b[1;33m[\u001b[0m\u001b[0mj\u001b[0m\u001b[1;33m-\u001b[0m\u001b[1;36m1\u001b[0m\u001b[1;33m]\u001b[0m \u001b[1;33m+\u001b[0m \u001b[1;36m1\u001b[0m\u001b[1;33m\u001b[0m\u001b[1;33m\u001b[0m\u001b[0m\n\u001b[0;32m     10\u001b[0m             \u001b[1;32melse\u001b[0m\u001b[1;33m:\u001b[0m\u001b[1;33m\u001b[0m\u001b[1;33m\u001b[0m\u001b[0m\n",
      "\u001b[1;31mNameError\u001b[0m: name 'text' is not defined"
     ]
    }
   ],
   "source": [
    "def longest_common_subsequence(text1, text2):\n",
    "    m, n = len(text1), len(text2)\n",
    "    \n",
    "    dp = [[0] * (n + 1) for _ in range(m + 1)]\n",
    "    \n",
    "    for i in range(1, m + 1):\n",
    "        for j in range(1, n + 1):\n",
    "            if text[i - 1] ==  text[j - 1]:\n",
    "                dp[i][j] = dp[i-1][j-1] + 1\n",
    "            else:\n",
    "                dp[i][j] = max(dp[i-1][j], dp[i][j-1])\n",
    "                \n",
    "    return dp[m][n]\n",
    "    \n",
    "        \n",
    "\n",
    "\n",
    "# Example usage\n",
    "text1 = \"abcdesd\"\n",
    "text2 = \"acesd\"\n",
    "result = longest_common_subsequence(text1, text2)\n",
    "print(\"Length of Longest Common Subsequence:\", result)"
   ]
  },
  {
   "cell_type": "markdown",
   "id": "c4c76d33",
   "metadata": {},
   "source": [
    "#### Explanation of the Code:\n",
    "\n",
    "1. The longest_common_subsequence function takes two parameters: text1 and text2.\n",
    "\n",
    "2. The function aims to find the length of the Longest Common Subsequence (LCS) between two given strings.\n",
    "\n",
    "3. The function uses a Dynamic Programming approach to solve the problem.\n",
    "\n",
    "4. A 2D array dp is initialized to store the lengths of the LCS for different prefixes of text1 and text2. The array has dimensions (m + 1) x (n + 1), where m is the length of text1 and n is the length of text2.\n",
    "\n",
    "5. The outer loop iterates through each character of text1 (indexed from 1 to m).\n",
    "\n",
    "6. Inside the outer loop, there's an inner loop that iterates through each character of text2 (indexed from 1 to n).\n",
    "\n",
    "7. For each pair of characters text1[i - 1] and text2[j - 1], the function checks if they are equal. If they are equal, the LCS length is incremented by 1   (dp[i - 1][j - 1] + 1) because this character contributes to the common subsequence.\n",
    "\n",
    "8. If the characters are not equal, the function updates the LCS length by taking the maximum of either excluding the current character from text1 (dp[i - 1][j]) or excluding the current character from text2 (dp[i][j - 1]).\n",
    "\n",
    "9. The updated LCS length is stored in the dp array at index [i][j].\n",
    "\n",
    "10. After both loops complete, the final result is obtained from dp[m][n], which represents the length of the LCS for the entire strings text1 and text2.\n",
    "\n",
    "11. The function returns the calculated length of the LCS.\n",
    "\n",
    "12. In the example usage section, two strings \"abcde\" and \"ace\" are provided.\n",
    "\n",
    "13. The longest_common_subsequence function is called with these two strings. The length of the Longest Common Subsequence between the strings is printed as the output.\n",
    "\n",
    "### Time Complexity Analysis:\n",
    "\n",
    "The time complexity of the Dynamic Programming approach for the Longest Common Subsequence problem is O(m * n), where m is the length of text1 and n is the length of text2.\n",
    "\n",
    "The nested loops iterate through all combinations of characters in text1 and text2 once, and the calculations within the loops involve constant time operations (comparisons and additions). Therefore, the overall time complexity is O(m * n).\n",
    "\n",
    "Dynamic Programming provides an efficient solution to the Longest Common Subsequence problem compared to naive recursive approaches, which could have exponential time complexity. The dynamic programming approach optimally solves the problem in polynomial time."
   ]
  },
  {
   "cell_type": "code",
   "execution_count": null,
   "id": "14a95063",
   "metadata": {},
   "outputs": [],
   "source": []
  }
 ],
 "metadata": {
  "kernelspec": {
   "display_name": "Python 3 (ipykernel)",
   "language": "python",
   "name": "python3"
  },
  "language_info": {
   "codemirror_mode": {
    "name": "ipython",
    "version": 3
   },
   "file_extension": ".py",
   "mimetype": "text/x-python",
   "name": "python",
   "nbconvert_exporter": "python",
   "pygments_lexer": "ipython3",
   "version": "3.9.13"
  }
 },
 "nbformat": 4,
 "nbformat_minor": 5
}
